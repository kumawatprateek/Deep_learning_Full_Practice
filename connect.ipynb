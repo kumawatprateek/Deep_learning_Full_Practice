{
 "cells": [
  {
   "cell_type": "code",
   "execution_count": null,
   "id": "e63ba8d4-f6d8-4061-a4c0-cd6e96cf9507",
   "metadata": {},
   "outputs": [],
   "source": [
    "import mysql.connector as myc\n",
    "\n",
    "mydb=myc.connect(host=\"localhost\",user=\"root\",password=\"root\",database=\"std_register\")\n",
    "db_cursor=mydb.cursor()\n",
    "# db_cursor.execute(\"create table register(Registration_Id integer primary key ,Name varchar(50),Class int(5) ,Gender char(10),DOB date,Date_of_Registration date, Religion char(20),Skill varchar(50),Fater_name  char(50),Mother_name char(50),F_Occupation varchar(50),M_Occupation varchar(50))\")\n",
    "db_cursor.execute(\"show tables\")\n",
    "for i in db_cursor:\n",
    "    print(\"table created\", i)\n",
    "\n",
    "db_cursor.execute(\"desc register\")\n",
    "for i in db_cursor:\n",
    "    print(i)"
   ]
  }
 ],
 "metadata": {
  "kernelspec": {
   "display_name": "Python 3 (ipykernel)",
   "language": "python",
   "name": "python3"
  },
  "language_info": {
   "codemirror_mode": {
    "name": "ipython",
    "version": 3
   },
   "file_extension": ".py",
   "mimetype": "text/x-python",
   "name": "python",
   "nbconvert_exporter": "python",
   "pygments_lexer": "ipython3",
   "version": "3.10.8"
  }
 },
 "nbformat": 4,
 "nbformat_minor": 5
}
