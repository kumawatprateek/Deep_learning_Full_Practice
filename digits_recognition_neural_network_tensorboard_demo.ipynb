{
 "cells": [
  {
   "cell_type": "markdown",
   "metadata": {},
   "source": [
    "<h2 style=\"color:blue\" align=\"center\">Tensorboard demo using handwritten digits classification using neural network</h2>"
   ]
  },
  {
   "cell_type": "markdown",
   "metadata": {},
   "source": [
    "In this notebook we will classify handwritten digits using a simple neural network which has only input and output layers. We will than add a hidden layer and see how the performance of the model improves"
   ]
  },
  {
   "cell_type": "code",
   "execution_count": 3,
   "metadata": {},
   "outputs": [
    {
     "name": "stdout",
     "output_type": "stream",
     "text": [
      "Collecting tensorflow\n",
      "  Downloading tensorflow-2.16.2-cp310-cp310-manylinux_2_17_x86_64.manylinux2014_x86_64.whl (590.6 MB)\n",
      "\u001b[2K     \u001b[90m━━━━━━━━━━━━━━━━━━━━━━━━━━━━━━━━━━━━━━━\u001b[0m \u001b[32m590.6/590.6 MB\u001b[0m \u001b[31m2.5 MB/s\u001b[0m eta \u001b[36m0:00:00\u001b[0m00:01\u001b[0m00:01\u001b[0m\n",
      "\u001b[?25hCollecting absl-py>=1.0.0\n",
      "  Downloading absl_py-2.1.0-py3-none-any.whl (133 kB)\n",
      "\u001b[2K     \u001b[90m━━━━━━━━━━━━━━━━━━━━━━━━━━━━━━━━━━━━━━\u001b[0m \u001b[32m133.7/133.7 kB\u001b[0m \u001b[31m20.8 MB/s\u001b[0m eta \u001b[36m0:00:00\u001b[0m\n",
      "\u001b[?25hRequirement already satisfied: numpy<2.0.0,>=1.23.5 in /opt/conda/lib/python3.10/site-packages (from tensorflow) (1.23.5)\n",
      "Collecting wrapt>=1.11.0\n",
      "  Downloading wrapt-1.16.0-cp310-cp310-manylinux_2_5_x86_64.manylinux1_x86_64.manylinux_2_17_x86_64.manylinux2014_x86_64.whl (80 kB)\n",
      "\u001b[2K     \u001b[90m━━━━━━━━━━━━━━━━━━━━━━━━━━━━━━━━━━━━━━━━\u001b[0m \u001b[32m80.3/80.3 kB\u001b[0m \u001b[31m14.6 MB/s\u001b[0m eta \u001b[36m0:00:00\u001b[0m\n",
      "\u001b[?25hRequirement already satisfied: packaging in /opt/conda/lib/python3.10/site-packages (from tensorflow) (22.0)\n",
      "Collecting tensorflow-io-gcs-filesystem>=0.23.1\n",
      "  Downloading tensorflow_io_gcs_filesystem-0.37.1-cp310-cp310-manylinux_2_17_x86_64.manylinux2014_x86_64.whl (5.1 MB)\n",
      "\u001b[2K     \u001b[90m━━━━━━━━━━━━━━━━━━━━━━━━━━━━━━━━━━━━━━━━\u001b[0m \u001b[32m5.1/5.1 MB\u001b[0m \u001b[31m70.7 MB/s\u001b[0m eta \u001b[36m0:00:00\u001b[0m:00:01\u001b[0m00:01\u001b[0m\n",
      "\u001b[?25hCollecting flatbuffers>=23.5.26\n",
      "  Downloading flatbuffers-24.3.25-py2.py3-none-any.whl (26 kB)\n",
      "Collecting opt-einsum>=2.3.2\n",
      "  Downloading opt_einsum-3.3.0-py3-none-any.whl (65 kB)\n",
      "\u001b[2K     \u001b[90m━━━━━━━━━━━━━━━━━━━━━━━━━━━━━━━━━━━━━━━━\u001b[0m \u001b[32m65.5/65.5 kB\u001b[0m \u001b[31m13.4 MB/s\u001b[0m eta \u001b[36m0:00:00\u001b[0m\n",
      "\u001b[?25hCollecting termcolor>=1.1.0\n",
      "  Downloading termcolor-2.4.0-py3-none-any.whl (7.7 kB)\n",
      "Requirement already satisfied: protobuf!=4.21.0,!=4.21.1,!=4.21.2,!=4.21.3,!=4.21.4,!=4.21.5,<5.0.0dev,>=3.20.3 in /opt/conda/lib/python3.10/site-packages (from tensorflow) (4.21.11)\n",
      "Collecting h5py>=3.10.0\n",
      "  Downloading h5py-3.11.0-cp310-cp310-manylinux_2_17_x86_64.manylinux2014_x86_64.whl (5.3 MB)\n",
      "\u001b[2K     \u001b[90m━━━━━━━━━━━━━━━━━━━━━━━━━━━━━━━━━━━━━━━━\u001b[0m \u001b[32m5.3/5.3 MB\u001b[0m \u001b[31m71.8 MB/s\u001b[0m eta \u001b[36m0:00:00\u001b[0m:00:01\u001b[0m00:01\u001b[0m\n",
      "\u001b[?25hRequirement already satisfied: requests<3,>=2.21.0 in /opt/conda/lib/python3.10/site-packages (from tensorflow) (2.28.1)\n",
      "Requirement already satisfied: typing-extensions>=3.6.6 in /opt/conda/lib/python3.10/site-packages (from tensorflow) (4.4.0)\n",
      "Requirement already satisfied: six>=1.12.0 in /opt/conda/lib/python3.10/site-packages (from tensorflow) (1.16.0)\n",
      "Collecting tensorboard<2.17,>=2.16\n",
      "  Downloading tensorboard-2.16.2-py3-none-any.whl (5.5 MB)\n",
      "\u001b[2K     \u001b[90m━━━━━━━━━━━━━━━━━━━━━━━━━━━━━━━━━━━━━━━━\u001b[0m \u001b[32m5.5/5.5 MB\u001b[0m \u001b[31m69.7 MB/s\u001b[0m eta \u001b[36m0:00:00\u001b[0m:00:01\u001b[0m00:01\u001b[0m\n",
      "\u001b[?25hCollecting keras>=3.0.0\n",
      "  Downloading keras-3.4.1-py3-none-any.whl (1.1 MB)\n",
      "\u001b[2K     \u001b[90m━━━━━━━━━━━━━━━━━━━━━━━━━━━━━━━━━━━━━━━━\u001b[0m \u001b[32m1.1/1.1 MB\u001b[0m \u001b[31m66.4 MB/s\u001b[0m eta \u001b[36m0:00:00\u001b[0m\n",
      "\u001b[?25hCollecting grpcio<2.0,>=1.24.3\n",
      "  Downloading grpcio-1.64.1-cp310-cp310-manylinux_2_17_x86_64.manylinux2014_x86_64.whl (5.6 MB)\n",
      "\u001b[2K     \u001b[90m━━━━━━━━━━━━━━━━━━━━━━━━━━━━━━━━━━━━━━━━\u001b[0m \u001b[32m5.6/5.6 MB\u001b[0m \u001b[31m20.7 MB/s\u001b[0m eta \u001b[36m0:00:00\u001b[0m00:01\u001b[0m00:01\u001b[0m\n",
      "\u001b[?25hCollecting astunparse>=1.6.0\n",
      "  Downloading astunparse-1.6.3-py2.py3-none-any.whl (12 kB)\n",
      "Collecting ml-dtypes~=0.3.1\n",
      "  Downloading ml_dtypes-0.3.2-cp310-cp310-manylinux_2_17_x86_64.manylinux2014_x86_64.whl (2.2 MB)\n",
      "\u001b[2K     \u001b[90m━━━━━━━━━━━━━━━━━━━━━━━━━━━━━━━━━━━━━━━━\u001b[0m \u001b[32m2.2/2.2 MB\u001b[0m \u001b[31m68.1 MB/s\u001b[0m eta \u001b[36m0:00:00\u001b[0m\n",
      "\u001b[?25hCollecting google-pasta>=0.1.1\n",
      "  Downloading google_pasta-0.2.0-py3-none-any.whl (57 kB)\n",
      "\u001b[2K     \u001b[90m━━━━━━━━━━━━━━━━━━━━━━━━━━━━━━━━━━━━━━━━\u001b[0m \u001b[32m57.5/57.5 kB\u001b[0m \u001b[31m8.1 MB/s\u001b[0m eta \u001b[36m0:00:00\u001b[0m\n",
      "\u001b[?25hCollecting libclang>=13.0.0\n",
      "  Downloading libclang-18.1.1-py2.py3-none-manylinux2010_x86_64.whl (24.5 MB)\n",
      "\u001b[2K     \u001b[90m━━━━━━━━━━━━━━━━━━━━━━━━━━━━━━━━━━━━━━━━\u001b[0m \u001b[32m24.5/24.5 MB\u001b[0m \u001b[31m51.9 MB/s\u001b[0m eta \u001b[36m0:00:00\u001b[0m00:01\u001b[0m00:01\u001b[0m\n",
      "\u001b[?25hCollecting gast!=0.5.0,!=0.5.1,!=0.5.2,>=0.2.1\n",
      "  Downloading gast-0.6.0-py3-none-any.whl (21 kB)\n",
      "Requirement already satisfied: setuptools in /opt/conda/lib/python3.10/site-packages (from tensorflow) (65.5.1)\n",
      "Requirement already satisfied: wheel<1.0,>=0.23.0 in /opt/conda/lib/python3.10/site-packages (from astunparse>=1.6.0->tensorflow) (0.38.4)\n",
      "Collecting namex\n",
      "  Downloading namex-0.0.8-py3-none-any.whl (5.8 kB)\n",
      "Collecting optree\n",
      "  Downloading optree-0.12.1-cp310-cp310-manylinux_2_17_x86_64.manylinux2014_x86_64.whl (347 kB)\n",
      "\u001b[2K     \u001b[90m━━━━━━━━━━━━━━━━━━━━━━━━━━━━━━━━━━━━━━\u001b[0m \u001b[32m347.7/347.7 kB\u001b[0m \u001b[31m34.2 MB/s\u001b[0m eta \u001b[36m0:00:00\u001b[0m\n",
      "\u001b[?25hCollecting rich\n",
      "  Downloading rich-13.7.1-py3-none-any.whl (240 kB)\n",
      "\u001b[2K     \u001b[90m━━━━━━━━━━━━━━━━━━━━━━━━━━━━━━━━━━━━━━\u001b[0m \u001b[32m240.7/240.7 kB\u001b[0m \u001b[31m29.4 MB/s\u001b[0m eta \u001b[36m0:00:00\u001b[0m\n",
      "\u001b[?25hRequirement already satisfied: certifi>=2017.4.17 in /opt/conda/lib/python3.10/site-packages (from requests<3,>=2.21.0->tensorflow) (2022.12.7)\n",
      "Requirement already satisfied: charset-normalizer<3,>=2 in /opt/conda/lib/python3.10/site-packages (from requests<3,>=2.21.0->tensorflow) (2.1.1)\n",
      "Requirement already satisfied: urllib3<1.27,>=1.21.1 in /opt/conda/lib/python3.10/site-packages (from requests<3,>=2.21.0->tensorflow) (1.26.13)\n",
      "Requirement already satisfied: idna<4,>=2.5 in /opt/conda/lib/python3.10/site-packages (from requests<3,>=2.21.0->tensorflow) (3.4)\n",
      "Collecting markdown>=2.6.8\n",
      "  Downloading Markdown-3.6-py3-none-any.whl (105 kB)\n",
      "\u001b[2K     \u001b[90m━━━━━━━━━━━━━━━━━━━━━━━━━━━━━━━━━━━━━━\u001b[0m \u001b[32m105.4/105.4 kB\u001b[0m \u001b[31m18.1 MB/s\u001b[0m eta \u001b[36m0:00:00\u001b[0m\n",
      "\u001b[?25hCollecting tensorboard-data-server<0.8.0,>=0.7.0\n",
      "  Downloading tensorboard_data_server-0.7.2-py3-none-manylinux_2_31_x86_64.whl (6.6 MB)\n",
      "\u001b[2K     \u001b[90m━━━━━━━━━━━━━━━━━━━━━━━━━━━━━━━━━━━━━━━━\u001b[0m \u001b[32m6.6/6.6 MB\u001b[0m \u001b[31m68.7 MB/s\u001b[0m eta \u001b[36m0:00:00\u001b[0m:00:01\u001b[0m0:01\u001b[0m\n",
      "\u001b[?25hCollecting werkzeug>=1.0.1\n",
      "  Downloading werkzeug-3.0.3-py3-none-any.whl (227 kB)\n",
      "\u001b[2K     \u001b[90m━━━━━━━━━━━━━━━━━━━━━━━━━━━━━━━━━━━━━━\u001b[0m \u001b[32m227.3/227.3 kB\u001b[0m \u001b[31m28.6 MB/s\u001b[0m eta \u001b[36m0:00:00\u001b[0m\n",
      "\u001b[?25hRequirement already satisfied: MarkupSafe>=2.1.1 in /opt/conda/lib/python3.10/site-packages (from werkzeug>=1.0.1->tensorboard<2.17,>=2.16->tensorflow) (2.1.1)\n",
      "Collecting typing-extensions>=3.6.6\n",
      "  Downloading typing_extensions-4.12.2-py3-none-any.whl (37 kB)\n",
      "Collecting markdown-it-py>=2.2.0\n",
      "  Downloading markdown_it_py-3.0.0-py3-none-any.whl (87 kB)\n",
      "\u001b[2K     \u001b[90m━━━━━━━━━━━━━━━━━━━━━━━━━━━━━━━━━━━━━━━━\u001b[0m \u001b[32m87.5/87.5 kB\u001b[0m \u001b[31m13.6 MB/s\u001b[0m eta \u001b[36m0:00:00\u001b[0m\n",
      "\u001b[?25hRequirement already satisfied: pygments<3.0.0,>=2.13.0 in /opt/conda/lib/python3.10/site-packages (from rich->keras>=3.0.0->tensorflow) (2.13.0)\n",
      "Collecting mdurl~=0.1\n",
      "  Downloading mdurl-0.1.2-py3-none-any.whl (10.0 kB)\n",
      "Installing collected packages: namex, libclang, flatbuffers, wrapt, werkzeug, typing-extensions, termcolor, tensorflow-io-gcs-filesystem, tensorboard-data-server, opt-einsum, ml-dtypes, mdurl, markdown, h5py, grpcio, google-pasta, gast, astunparse, absl-py, tensorboard, optree, markdown-it-py, rich, keras, tensorflow\n",
      "  Attempting uninstall: typing-extensions\n",
      "    Found existing installation: typing_extensions 4.4.0\n",
      "    Uninstalling typing_extensions-4.4.0:\n",
      "      Successfully uninstalled typing_extensions-4.4.0\n",
      "  Attempting uninstall: h5py\n",
      "    Found existing installation: h5py 3.7.0\n",
      "    Uninstalling h5py-3.7.0:\n",
      "      Successfully uninstalled h5py-3.7.0\n",
      "Successfully installed absl-py-2.1.0 astunparse-1.6.3 flatbuffers-24.3.25 gast-0.6.0 google-pasta-0.2.0 grpcio-1.64.1 h5py-3.11.0 keras-3.4.1 libclang-18.1.1 markdown-3.6 markdown-it-py-3.0.0 mdurl-0.1.2 ml-dtypes-0.3.2 namex-0.0.8 opt-einsum-3.3.0 optree-0.12.1 rich-13.7.1 tensorboard-2.16.2 tensorboard-data-server-0.7.2 tensorflow-2.16.2 tensorflow-io-gcs-filesystem-0.37.1 termcolor-2.4.0 typing-extensions-4.12.2 werkzeug-3.0.3 wrapt-1.16.0\n",
      "Note: you may need to restart the kernel to use updated packages.\n"
     ]
    }
   ],
   "source": [
    "pip install tensorflow"
   ]
  },
  {
   "cell_type": "code",
   "execution_count": 4,
   "metadata": {},
   "outputs": [
    {
     "name": "stderr",
     "output_type": "stream",
     "text": [
      "2024-07-10 13:18:32.016258: I external/local_tsl/tsl/cuda/cudart_stub.cc:32] Could not find cuda drivers on your machine, GPU will not be used.\n",
      "2024-07-10 13:18:32.021200: I external/local_tsl/tsl/cuda/cudart_stub.cc:32] Could not find cuda drivers on your machine, GPU will not be used.\n",
      "2024-07-10 13:18:32.039645: E external/local_xla/xla/stream_executor/cuda/cuda_fft.cc:479] Unable to register cuFFT factory: Attempting to register factory for plugin cuFFT when one has already been registered\n",
      "2024-07-10 13:18:32.075686: E external/local_xla/xla/stream_executor/cuda/cuda_dnn.cc:10575] Unable to register cuDNN factory: Attempting to register factory for plugin cuDNN when one has already been registered\n",
      "2024-07-10 13:18:32.075760: E external/local_xla/xla/stream_executor/cuda/cuda_blas.cc:1442] Unable to register cuBLAS factory: Attempting to register factory for plugin cuBLAS when one has already been registered\n",
      "2024-07-10 13:18:32.097355: I tensorflow/core/platform/cpu_feature_guard.cc:210] This TensorFlow binary is optimized to use available CPU instructions in performance-critical operations.\n",
      "To enable the following instructions: AVX2 FMA, in other operations, rebuild TensorFlow with the appropriate compiler flags.\n",
      "2024-07-10 13:18:33.458319: W tensorflow/compiler/tf2tensorrt/utils/py_utils.cc:38] TF-TRT Warning: Could not find TensorRT\n"
     ]
    }
   ],
   "source": [
    "import tensorflow as tf\n",
    "from tensorflow import keras\n",
    "import matplotlib.pyplot as plt\n",
    "%matplotlib inline\n",
    "import numpy as np"
   ]
  },
  {
   "cell_type": "code",
   "execution_count": 5,
   "metadata": {},
   "outputs": [
    {
     "name": "stdout",
     "output_type": "stream",
     "text": [
      "Downloading data from https://storage.googleapis.com/tensorflow/tf-keras-datasets/mnist.npz\n",
      "\u001b[1m11490434/11490434\u001b[0m \u001b[32m━━━━━━━━━━━━━━━━━━━━\u001b[0m\u001b[37m\u001b[0m \u001b[1m3s\u001b[0m 0us/step\n"
     ]
    }
   ],
   "source": [
    "(X_train, y_train) , (X_test, y_test) = keras.datasets.mnist.load_data()"
   ]
  },
  {
   "cell_type": "code",
   "execution_count": 6,
   "metadata": {},
   "outputs": [
    {
     "data": {
      "text/plain": [
       "60000"
      ]
     },
     "execution_count": 6,
     "metadata": {},
     "output_type": "execute_result"
    }
   ],
   "source": [
    "len(X_train)"
   ]
  },
  {
   "cell_type": "code",
   "execution_count": 7,
   "metadata": {},
   "outputs": [
    {
     "data": {
      "text/plain": [
       "10000"
      ]
     },
     "execution_count": 7,
     "metadata": {},
     "output_type": "execute_result"
    }
   ],
   "source": [
    "len(X_test)"
   ]
  },
  {
   "cell_type": "code",
   "execution_count": 8,
   "metadata": {},
   "outputs": [
    {
     "data": {
      "text/plain": [
       "(28, 28)"
      ]
     },
     "execution_count": 8,
     "metadata": {},
     "output_type": "execute_result"
    }
   ],
   "source": [
    "X_train[0].shape"
   ]
  },
  {
   "cell_type": "code",
   "execution_count": 9,
   "metadata": {},
   "outputs": [
    {
     "data": {
      "text/plain": [
       "<matplotlib.image.AxesImage at 0x7f764e883d60>"
      ]
     },
     "execution_count": 9,
     "metadata": {},
     "output_type": "execute_result"
    },
    {
     "data": {
      "image/png": "[encoded data removed]",
      "text/plain": [
       "<Figure size 480x480 with 1 Axes>"
      ]
     },
     "metadata": {},
     "output_type": "display_data"
    }
   ],
   "source": [
    "plt.matshow(X_train[0])"
   ]
  },
  {
   "cell_type": "code",
   "execution_count": 10,
   "metadata": {},
   "outputs": [
    {
     "data": {
      "text/plain": [
       "5"
      ]
     },
     "execution_count": 10,
     "metadata": {},
     "output_type": "execute_result"
    }
   ],
   "source": [
    "y_train[0]"
   ]
  },
  {
   "cell_type": "code",
   "execution_count": 11,
   "metadata": {},
   "outputs": [],
   "source": [
    "X_train = X_train / 255\n",
    "X_test = X_test / 255"
   ]
  },
  {
   "cell_type": "code",
   "execution_count": 12,
   "metadata": {},
   "outputs": [],
   "source": [
    "X_train_flattened = X_train.reshape(len(X_train), 28*28)\n",
    "X_test_flattened = X_test.reshape(len(X_test), 28*28)"
   ]
  },
  {
   "cell_type": "code",
   "execution_count": 13,
   "metadata": {},
   "outputs": [
    {
     "data": {
      "text/plain": [
       "(60000, 784)"
      ]
     },
     "execution_count": 13,
     "metadata": {},
     "output_type": "execute_result"
    }
   ],
   "source": [
    "X_train_flattened.shape"
   ]
  },
  {
   "cell_type": "markdown",
   "metadata": {},
   "source": [
    "<h3 style='color:purple'>Using Flatten layer so that we don't have to call .reshape on input dataset</h3>"
   ]
  },
  {
   "cell_type": "code",
   "execution_count": 14,
   "metadata": {},
   "outputs": [
    {
     "name": "stderr",
     "output_type": "stream",
     "text": [
      "/opt/conda/lib/python3.10/site-packages/keras/src/layers/reshaping/flatten.py:37: UserWarning: Do not pass an `input_shape`/`input_dim` argument to a layer. When using Sequential models, prefer using an `Input(shape)` object as the first layer in the model instead.\n",
      "  super().__init__(**kwargs)\n"
     ]
    },
    {
     "name": "stdout",
     "output_type": "stream",
     "text": [
      "Epoch 1/5\n",
      "\u001b[1m1875/1875\u001b[0m \u001b[32m━━━━━━━━━━━━━━━━━━━━\u001b[0m\u001b[37m\u001b[0m \u001b[1m7s\u001b[0m 3ms/step - accuracy: 0.8750 - loss: 0.4477\n",
      "Epoch 2/5\n",
      "\u001b[1m1875/1875\u001b[0m \u001b[32m━━━━━━━━━━━━━━━━━━━━\u001b[0m\u001b[37m\u001b[0m \u001b[1m5s\u001b[0m 3ms/step - accuracy: 0.9591 - loss: 0.1368\n",
      "Epoch 3/5\n",
      "\u001b[1m1875/1875\u001b[0m \u001b[32m━━━━━━━━━━━━━━━━━━━━\u001b[0m\u001b[37m\u001b[0m \u001b[1m6s\u001b[0m 3ms/step - accuracy: 0.9738 - loss: 0.0894\n",
      "Epoch 4/5\n",
      "\u001b[1m1875/1875\u001b[0m \u001b[32m━━━━━━━━━━━━━━━━━━━━\u001b[0m\u001b[37m\u001b[0m \u001b[1m5s\u001b[0m 3ms/step - accuracy: 0.9806 - loss: 0.0640\n",
      "Epoch 5/5\n",
      "\u001b[1m1875/1875\u001b[0m \u001b[32m━━━━━━━━━━━━━━━━━━━━\u001b[0m\u001b[37m\u001b[0m \u001b[1m5s\u001b[0m 3ms/step - accuracy: 0.9843 - loss: 0.0505\n"
     ]
    },
    {
     "data": {
      "text/plain": [
       "<keras.src.callbacks.history.History at 0x7f764b72a650>"
      ]
     },
     "execution_count": 14,
     "metadata": {},
     "output_type": "execute_result"
    }
   ],
   "source": [
    "model = keras.Sequential([\n",
    "    keras.layers.Flatten(input_shape=(28, 28)),\n",
    "    keras.layers.Dense(100, activation='relu'),\n",
    "    keras.layers.Dense(10, activation='sigmoid')\n",
    "])\n",
    "\n",
    "model.compile(optimizer='adam',\n",
    "              loss='sparse_categorical_crossentropy',\n",
    "              metrics=['accuracy'])\n",
    "\n",
    "tb_callback = tf.keras.callbacks.TensorBoard(log_dir=\"logs/\", histogram_freq=1)\n",
    "\n",
    "model.fit(X_train, y_train, epochs=5, callbacks=[tb_callback])"
   ]
  },
  {
   "cell_type": "code",
   "execution_count": 19,
   "metadata": {},
   "outputs": [],
   "source": [
    "# %load_ext tensorboard\n",
    "# %tensorboard --logdir logs/fit"
   ]
  },
  {
   "cell_type": "markdown",
   "metadata": {},
   "source": [
    "Either run above inline magic or go to git bash or your command prompt and type below to run it,\n",
    "`tensorboard --logdir logs/`\n",
    "This will launch tensorboard at this url which you can open in your browser `http://localhost:6006/`"
   ]
  },
  {
   "cell_type": "code",
   "execution_count": 21,
   "metadata": {},
   "outputs": [
    {
     "data": {
      "text/plain": [
       "[array([[ 0.08018135,  0.07676665,  0.00817826, ...,  0.06203622,\n",
       "         -0.07566814, -0.04781456],\n",
       "        [-0.03080314,  0.02776376, -0.0276413 , ...,  0.07284065,\n",
       "         -0.06278679, -0.050143  ],\n",
       "        [-0.0348233 , -0.03583248,  0.02508041, ...,  0.06309652,\n",
       "          0.04274397,  0.01169454],\n",
       "        ...,\n",
       "        [ 0.065769  , -0.03921543,  0.03406426, ...,  0.05613226,\n",
       "         -0.01558677,  0.05780426],\n",
       "        [ 0.06214198,  0.06049384,  0.03085385, ..., -0.03592216,\n",
       "          0.03427701,  0.00300981],\n",
       "        [ 0.06698082, -0.03717775, -0.07325433, ..., -0.05449349,\n",
       "         -0.01304435, -0.04430914]], dtype=float32),\n",
       " array([ 0.08676602,  0.03150371, -0.02170344, -0.04067906, -0.12638798,\n",
       "         0.12664934,  0.02949956, -0.02059193,  0.02479437, -0.03561063,\n",
       "         0.09126042, -0.03822872, -0.09885611, -0.03294928, -0.01296559,\n",
       "         0.08118907, -0.0037925 ,  0.09992988,  0.08196083,  0.18924329,\n",
       "        -0.02750019,  0.07126249, -0.07717582,  0.00829482, -0.01159082,\n",
       "         0.09505836,  0.25923175,  0.10840762,  0.00319706,  0.02202343,\n",
       "        -0.04303166, -0.04926576,  0.21289022,  0.02931109,  0.18298416,\n",
       "        -0.10617755,  0.18618271,  0.00893982,  0.06990209,  0.07544728,\n",
       "         0.10010834, -0.09414629, -0.08856652, -0.04194313, -0.08327718,\n",
       "         0.00122525,  0.0941469 ,  0.0005876 ,  0.11532445, -0.02217383,\n",
       "         0.0327533 , -0.02920167,  0.14694698,  0.05730332,  0.09470294,\n",
       "        -0.04347403,  0.0408936 ,  0.00202835,  0.1054332 , -0.01336217,\n",
       "         0.23656966, -0.11578713, -0.07657444,  0.03513115, -0.03351413,\n",
       "         0.00996922, -0.05857272, -0.05872576,  0.07336231,  0.16647457,\n",
       "         0.07342737,  0.11653911, -0.03423982, -0.00317422, -0.17998557,\n",
       "        -0.06112884, -0.00944855, -0.03319202,  0.0279809 , -0.03277957,\n",
       "         0.13590813, -0.0100536 ,  0.00098575,  0.09555768,  0.11761279,\n",
       "         0.10858093,  0.03901267,  0.09484836,  0.02373006, -0.04736641,\n",
       "         0.05875243, -0.0101263 ,  0.00641852,  0.07009546,  0.03939494,\n",
       "         0.17642066,  0.08585546,  0.05633805, -0.02397397, -0.04712225],\n",
       "       dtype=float32),\n",
       " array([[-1.59742057e-01,  1.41847074e-01,  3.79262060e-01,\n",
       "          8.56695026e-02,  1.13383397e-01, -1.45408452e-01,\n",
       "          2.47479513e-01, -2.27283508e-01, -3.14921260e-01,\n",
       "         -8.05611491e-01],\n",
       "        [-3.81081328e-02, -4.06844765e-01, -9.20372754e-02,\n",
       "          4.21252428e-03, -9.42182124e-01,  5.80337703e-01,\n",
       "          3.47849786e-01, -1.27039596e-01, -4.11845952e-01,\n",
       "          9.71406102e-02],\n",
       "        [ 1.70403525e-01, -9.23914611e-02,  1.46871239e-01,\n",
       "         -1.13863274e-02,  1.29899040e-01, -1.26277670e-01,\n",
       "          1.99284419e-01, -1.04297630e-01,  5.64974397e-02,\n",
       "         -6.24199629e-01],\n",
       "        [-7.51744583e-02,  1.31881282e-01, -2.89307803e-01,\n",
       "          2.17050880e-01,  1.53878003e-01, -3.46699238e-01,\n",
       "         -1.30161151e-01, -2.20335677e-01,  2.20364690e-01,\n",
       "          1.70391798e-01],\n",
       "        [-3.66794527e-01, -4.94265079e-01,  5.64410612e-02,\n",
       "          2.94369489e-01,  6.13003932e-02, -7.03469068e-02,\n",
       "         -5.88346183e-01, -4.05629516e-01, -3.44955805e-03,\n",
       "          3.41764480e-01],\n",
       "        [-5.56228399e-01,  8.24791253e-01, -1.78200454e-01,\n",
       "          1.06411248e-01,  6.98555231e-01, -5.73723316e-01,\n",
       "         -2.28633910e-01, -1.84053570e-01, -2.12485090e-01,\n",
       "         -4.71771389e-01],\n",
       "        [-4.94894266e-01,  1.89136252e-01,  3.67840737e-01,\n",
       "         -2.22530395e-01, -5.22884309e-01, -3.04181993e-01,\n",
       "         -2.87904665e-02,  3.61871958e-01, -1.07141487e-01,\n",
       "         -6.94524348e-01],\n",
       "        [ 1.52576119e-01,  1.79383248e-01,  2.94123273e-02,\n",
       "         -2.16378570e-02, -6.20535808e-03, -7.27920793e-03,\n",
       "         -3.67867619e-01, -2.65936591e-02,  2.02004895e-01,\n",
       "          7.44374543e-02],\n",
       "        [ 1.96453571e-01, -1.68801650e-01, -2.69422650e-01,\n",
       "          1.70595825e-01, -2.42016688e-01,  2.89150268e-01,\n",
       "          1.26590326e-01, -2.80908555e-01,  2.50105977e-01,\n",
       "          2.52355874e-01],\n",
       "        [ 1.44103035e-01,  6.94808438e-02,  9.57098976e-02,\n",
       "          1.61964655e-01, -4.55291837e-01,  1.79782271e-01,\n",
       "          1.42931253e-01, -6.94576859e-01,  9.96283665e-02,\n",
       "          1.56344182e-03],\n",
       "        [-1.01180226e-01,  3.99399698e-01, -5.65899536e-02,\n",
       "         -6.98081255e-01,  2.92222857e-01,  6.85103983e-02,\n",
       "         -2.39200637e-01,  3.37400585e-01, -3.94506544e-01,\n",
       "         -2.74754643e-01],\n",
       "        [-5.58156252e-01,  1.39348805e-01,  3.59198093e-01,\n",
       "          2.29445189e-01, -5.54501474e-01,  8.59204754e-02,\n",
       "         -4.51000303e-01,  2.03487426e-01,  7.05895992e-03,\n",
       "         -2.35249475e-01],\n",
       "        [-8.84469748e-02,  1.24833897e-01,  2.71304369e-01,\n",
       "          4.19858605e-01, -2.47373898e-02, -4.83779818e-01,\n",
       "         -3.52946013e-01,  3.12617987e-01, -2.84574479e-01,\n",
       "         -5.47293603e-01],\n",
       "        [ 2.33006507e-01, -7.96017349e-02,  1.91064402e-01,\n",
       "         -3.39435190e-01, -2.79718288e-03, -2.84097672e-01,\n",
       "          1.68465704e-01, -5.86375415e-01, -2.05841422e-01,\n",
       "          5.82380816e-02],\n",
       "        [-7.60505199e-02, -1.99252442e-01,  2.13010106e-02,\n",
       "         -1.14565283e-01, -9.71510559e-02, -2.96547532e-01,\n",
       "          4.45499048e-02, -1.04529195e-01,  1.66910067e-01,\n",
       "          1.71280384e-01],\n",
       "        [-1.10411704e-01, -1.41546521e-02, -7.18408287e-01,\n",
       "          5.31288758e-02,  2.20339790e-01, -3.81419137e-02,\n",
       "          1.34487469e-02,  1.11127898e-01,  2.17646956e-01,\n",
       "          2.48209432e-01],\n",
       "        [-3.27451438e-01, -1.48636937e-01, -4.03051645e-01,\n",
       "          1.54749498e-01, -7.17793703e-01,  5.70449352e-01,\n",
       "          2.36415848e-01, -5.66770792e-01,  1.89061370e-02,\n",
       "         -1.52486756e-01],\n",
       "        [ 3.13671976e-01,  2.16492712e-01,  3.87808114e-01,\n",
       "         -8.64897892e-02, -5.10429025e-01,  1.36421278e-01,\n",
       "          3.10106248e-01,  1.50928006e-01, -1.36268392e-01,\n",
       "         -5.96866071e-01],\n",
       "        [ 3.27880114e-01, -3.72014761e-01,  3.37037653e-01,\n",
       "         -1.97550252e-01,  2.19916686e-01, -2.44639367e-01,\n",
       "         -2.36637026e-01,  2.84848928e-01, -4.05566663e-01,\n",
       "          1.01790510e-01],\n",
       "        [ 6.82045743e-02,  1.01827703e-01, -6.00210369e-01,\n",
       "         -9.82672349e-03, -6.49019554e-02,  4.11771238e-01,\n",
       "         -4.18022461e-02, -2.59954393e-01,  1.62753880e-01,\n",
       "          1.19771346e-01],\n",
       "        [-4.47738677e-01,  1.83710888e-01,  1.09134614e-01,\n",
       "          1.01188578e-01, -9.30407271e-02,  9.82824564e-02,\n",
       "         -3.57748270e-01,  1.15217678e-01,  1.10125177e-01,\n",
       "          1.94813401e-01],\n",
       "        [ 1.16944417e-01,  4.81396541e-02, -1.25240967e-01,\n",
       "         -4.93059695e-01,  2.02492014e-01,  3.85876186e-02,\n",
       "          2.62555420e-01,  7.72352740e-02, -3.07735085e-01,\n",
       "          1.86654702e-01],\n",
       "        [-2.53405362e-01,  2.96810925e-01,  1.27424419e-01,\n",
       "          2.86609203e-01, -5.13596237e-01, -5.42228036e-02,\n",
       "         -1.41498223e-01,  3.24814975e-01, -3.30449045e-01,\n",
       "         -9.99227822e-01],\n",
       "        [ 1.31316073e-02, -2.31654689e-01, -4.41903025e-01,\n",
       "          1.00210845e-01,  4.78817709e-02, -1.76348891e-02,\n",
       "          2.03884259e-01,  1.19269483e-01,  1.38604924e-01,\n",
       "         -4.10021469e-02],\n",
       "        [ 2.17880726e-01, -4.45157975e-01, -4.93190214e-02,\n",
       "         -5.92764199e-01,  6.34163097e-02, -9.66644883e-02,\n",
       "         -2.56790280e-01, -4.52845474e-04, -2.01433331e-01,\n",
       "          1.78654149e-01],\n",
       "        [-1.67448029e-01,  3.58981371e-01,  2.93473274e-01,\n",
       "         -4.43453252e-01,  1.70620829e-01, -8.56412649e-01,\n",
       "         -4.35660094e-01, -2.28337944e-01, -4.18232009e-02,\n",
       "          3.21225703e-01],\n",
       "        [-7.62670264e-02, -6.84442222e-01,  5.11028230e-01,\n",
       "          1.75551087e-01, -1.83408514e-01,  2.18441486e-01,\n",
       "         -6.91116869e-01,  3.27113897e-01, -5.13563275e-01,\n",
       "         -1.61670908e-01],\n",
       "        [ 1.04755081e-01, -4.06935245e-01, -1.91923559e-01,\n",
       "         -2.27790758e-01, -3.23058963e-01,  3.88768256e-01,\n",
       "         -7.95854390e-01,  2.51870811e-01, -1.85499430e-01,\n",
       "          1.37636870e-01],\n",
       "        [ 1.62381321e-01, -2.90794019e-02,  1.83133245e-01,\n",
       "         -2.05145523e-01,  2.63302505e-01, -5.89802086e-01,\n",
       "         -5.19924223e-01,  1.79699212e-01, -2.08600551e-01,\n",
       "          2.63637871e-01],\n",
       "        [-4.11146641e-01,  5.44551373e-01, -1.76288113e-02,\n",
       "          5.86631715e-01,  5.89582026e-02, -7.20582306e-01,\n",
       "         -5.99424720e-01, -2.30722532e-01, -2.27313831e-01,\n",
       "         -8.86387751e-02],\n",
       "        [-5.86524963e-01, -1.03847340e-01,  2.28505328e-01,\n",
       "          2.57917792e-01, -8.47586513e-01,  3.06419313e-01,\n",
       "         -2.86416769e-01,  3.01775813e-01, -4.76269066e-01,\n",
       "         -4.62085307e-01],\n",
       "        [ 4.70353216e-02, -4.13913965e-01, -4.91191000e-02,\n",
       "          1.07759409e-01,  6.95450138e-03, -1.74110100e-01,\n",
       "         -2.71508675e-02, -9.45249349e-02,  1.35761499e-01,\n",
       "          7.99813271e-02],\n",
       "        [-2.33586565e-01, -9.02422443e-02, -2.75812179e-01,\n",
       "          8.73658732e-02,  1.21685481e-02,  1.28664032e-01,\n",
       "         -7.57049799e-01,  9.42572132e-02,  8.08993205e-02,\n",
       "          1.15536310e-01],\n",
       "        [-1.54580772e-01,  6.61314607e-01, -1.79845020e-01,\n",
       "         -8.19911122e-01,  2.31087804e-01, -1.29281402e-01,\n",
       "         -2.06358537e-01,  3.88731241e-01, -3.11337203e-01,\n",
       "          5.49751297e-02],\n",
       "        [-4.99583006e-01,  4.99762118e-01,  9.83562022e-02,\n",
       "          3.80842209e-01,  1.07844345e-01,  2.79090554e-02,\n",
       "          4.20933403e-03,  7.16198802e-01, -4.79094952e-01,\n",
       "         -6.61414683e-01],\n",
       "        [ 2.73593694e-01, -1.20375916e-01,  8.45303352e-04,\n",
       "          6.36350214e-02, -5.02427995e-01, -1.62683845e-01,\n",
       "         -3.95771980e-01,  1.16922475e-01, -3.67753208e-02,\n",
       "          7.30504766e-02],\n",
       "        [-1.65363774e-01,  2.06373304e-01, -6.97485209e-01,\n",
       "         -1.19337477e-01, -5.76010704e-01,  5.46863258e-01,\n",
       "          2.81276494e-01,  1.99170887e-01, -2.05070540e-01,\n",
       "          5.02732433e-02],\n",
       "        [ 2.71016121e-01, -8.37605834e-01, -7.88355917e-02,\n",
       "         -3.68743777e-01,  1.51630953e-01,  6.40693605e-02,\n",
       "          1.82493091e-01, -2.44655669e-01,  3.18922371e-01,\n",
       "          1.13420554e-01],\n",
       "        [-1.25972942e-01, -3.37019205e-01,  2.39777081e-02,\n",
       "         -2.32653730e-02,  1.92649364e-02,  1.03325211e-01,\n",
       "         -3.73802073e-02,  1.70034289e-01,  1.87390506e-01,\n",
       "          1.20019853e-01],\n",
       "        [-6.03285074e-01,  1.80082783e-01, -5.35086729e-02,\n",
       "         -1.64622232e-01, -5.69034554e-02,  2.49696687e-01,\n",
       "         -3.68720263e-01,  2.77037621e-01,  2.09107995e-01,\n",
       "          1.53964847e-01],\n",
       "        [-1.32818505e-01, -1.47544101e-01, -4.35628481e-02,\n",
       "          2.19673431e-03,  9.05816332e-02,  1.36129558e-01,\n",
       "         -1.85074583e-01, -1.84312016e-01,  2.26777822e-01,\n",
       "          8.19962192e-03],\n",
       "        [ 4.21006978e-02,  9.12327915e-02, -2.17164420e-02,\n",
       "          1.63179457e-01, -1.93424135e-01, -3.65233541e-01,\n",
       "         -1.90883368e-01, -1.96089908e-01,  2.27972940e-01,\n",
       "          2.36885354e-01],\n",
       "        [-1.54856235e-01, -2.93902993e-01,  7.44962320e-02,\n",
       "          4.01134819e-01, -7.48849511e-01, -5.47607765e-02,\n",
       "         -4.39718872e-01,  1.47573337e-01, -2.64275670e-01,\n",
       "         -6.54108897e-02],\n",
       "        [ 8.95220265e-02,  1.23585403e-01,  2.27265917e-02,\n",
       "          1.24736197e-01, -4.20196801e-01,  1.44141585e-01,\n",
       "         -9.01714414e-02, -1.77663624e-01,  1.81138307e-01,\n",
       "         -2.06443235e-01],\n",
       "        [-6.15456216e-02,  1.68350637e-01, -1.09554000e-01,\n",
       "          1.71947449e-01,  3.11884880e-01, -1.90337166e-01,\n",
       "         -5.62285125e-01,  2.52744436e-01,  6.48459718e-02,\n",
       "          2.03079969e-01],\n",
       "        [-4.55577016e-01, -1.70189440e-01, -2.25374803e-01,\n",
       "          2.26374552e-01,  5.16555160e-02, -4.54043299e-01,\n",
       "          2.77625144e-01,  2.45647915e-02,  2.07555816e-02,\n",
       "          1.54665291e-01],\n",
       "        [ 1.01084910e-01,  2.74292618e-01, -3.12947661e-01,\n",
       "         -3.49779278e-01, -9.22917854e-03, -5.68292476e-03,\n",
       "         -5.31150475e-02,  1.46989748e-01,  1.36079773e-01,\n",
       "          1.94268227e-01],\n",
       "        [-1.06206223e-01, -3.35198790e-01, -2.42422149e-01,\n",
       "         -9.45670623e-03,  2.69753803e-02, -2.36017853e-01,\n",
       "          2.28323132e-01,  3.59850302e-02, -1.45579100e-01,\n",
       "          1.88046992e-01],\n",
       "        [-7.72522569e-01, -3.29900742e-01, -2.13350564e-01,\n",
       "         -2.76260704e-01,  2.81729221e-01,  3.50393742e-01,\n",
       "          5.88053232e-03, -4.65171449e-02,  4.01320815e-01,\n",
       "          3.25864889e-02],\n",
       "        [-3.51329148e-01, -3.80119711e-01, -4.27836806e-01,\n",
       "         -2.18951508e-01,  2.94830620e-01, -7.47677833e-02,\n",
       "         -3.32100302e-01, -3.53565179e-02, -3.90081584e-01,\n",
       "          4.30497676e-01],\n",
       "        [ 2.02441931e-01, -1.70697346e-01,  2.41896436e-01,\n",
       "          1.41636610e-01,  2.86525726e-01,  1.14615105e-01,\n",
       "         -2.80948877e-01, -1.85588002e-01, -8.38310421e-02,\n",
       "         -8.94642919e-02],\n",
       "        [-7.34120160e-02, -3.32337737e-01, -1.48921207e-01,\n",
       "          2.42367417e-01, -2.33699024e-01,  1.81928068e-01,\n",
       "         -4.89615858e-01,  1.72173455e-01,  1.97705463e-01,\n",
       "          8.20984244e-02],\n",
       "        [-5.65467894e-01,  1.92795977e-01,  6.97602332e-02,\n",
       "          1.68261215e-01,  4.70101759e-02,  2.17195138e-01,\n",
       "          2.39583477e-01,  3.29337806e-01,  2.99455702e-01,\n",
       "         -4.33064252e-02],\n",
       "        [-2.65625596e-01, -4.43780988e-01,  2.14472234e-01,\n",
       "         -3.39322031e-01, -7.94171318e-02,  1.00366786e-01,\n",
       "          1.93590105e-01, -8.89711305e-02, -5.91911264e-02,\n",
       "          3.47915351e-01],\n",
       "        [ 1.56341821e-01,  1.14671692e-01,  1.63764358e-01,\n",
       "         -1.77459598e-01, -4.18801397e-01, -2.25176752e-01,\n",
       "          2.07062677e-01, -1.00424841e-01,  3.38177770e-01,\n",
       "         -1.35409534e-01],\n",
       "        [ 1.80736125e-01,  2.57563740e-01,  2.42969349e-01,\n",
       "          1.66724309e-01, -7.49160290e-01, -2.42590189e-01,\n",
       "         -2.49279216e-02,  3.73319276e-02,  1.06209375e-01,\n",
       "         -2.66049355e-01],\n",
       "        [-2.23588943e-02, -1.91766560e-01,  1.43342406e-01,\n",
       "          1.02966353e-01,  5.73997162e-02, -9.98968165e-03,\n",
       "         -9.59320664e-02, -2.47621343e-01,  1.88322425e-01,\n",
       "         -2.11398557e-01],\n",
       "        [ 1.41310021e-01, -3.71118248e-01,  1.85375154e-01,\n",
       "         -3.10474187e-02,  1.34474054e-01, -1.32627979e-01,\n",
       "          2.07683966e-01,  3.91520530e-01, -4.94999021e-01,\n",
       "         -2.02541530e-01],\n",
       "        [ 2.73932993e-01,  2.92472959e-01,  1.93828791e-01,\n",
       "         -2.47325167e-01, -7.95384720e-02,  1.09114818e-01,\n",
       "          2.80145228e-01, -2.56536335e-01, -1.23872608e-01,\n",
       "          6.51558265e-02],\n",
       "        [ 9.42544863e-02, -2.31565163e-02, -9.56045017e-02,\n",
       "         -2.03183740e-01,  1.32339686e-01, -1.91775277e-01,\n",
       "          1.49366096e-01, -3.35784554e-01,  5.36507145e-02,\n",
       "         -1.04767472e-01],\n",
       "        [-8.61556530e-02,  3.04418355e-01,  4.66250420e-01,\n",
       "         -1.58186734e-01, -5.53702675e-02,  5.27138829e-01,\n",
       "         -8.21500868e-02, -6.45316124e-01, -3.75454754e-01,\n",
       "         -5.21200597e-01],\n",
       "        [-2.59129375e-01, -1.07150478e-03,  3.13976735e-01,\n",
       "         -1.08335158e-02, -3.11662316e-01, -5.58212757e-01,\n",
       "         -3.00974369e-01,  1.48151934e-01,  1.65472273e-02,\n",
       "         -5.23913562e-01],\n",
       "        [-6.21612966e-02,  3.13255578e-01,  1.50053829e-01,\n",
       "         -4.90061849e-01,  1.40257314e-01,  2.00650375e-02,\n",
       "          6.93531781e-02,  3.79118264e-01, -4.35585499e-01,\n",
       "         -3.23335260e-01],\n",
       "        [-2.71273315e-01,  2.66037439e-03,  1.13575354e-01,\n",
       "          1.84667520e-02,  2.55128928e-02, -2.36384273e-01,\n",
       "          1.21022530e-01, -3.20445716e-01,  4.68040779e-02,\n",
       "         -6.39546523e-03],\n",
       "        [-8.09567630e-01, -8.92885029e-02, -5.50431907e-01,\n",
       "          2.53736883e-01,  3.27614099e-01,  3.37353855e-01,\n",
       "         -5.56090891e-01, -4.92736101e-01,  7.47718215e-02,\n",
       "          1.76987290e-01],\n",
       "        [-1.06922045e-01,  3.00371319e-01, -4.83321458e-01,\n",
       "         -7.08738863e-01,  1.96681425e-01, -9.27347466e-02,\n",
       "          4.44759458e-01,  5.74690029e-02, -4.80019838e-01,\n",
       "         -3.45871270e-01],\n",
       "        [-7.44355977e-01,  3.43825430e-01, -9.84133184e-02,\n",
       "          2.48032287e-01, -4.10316624e-02,  2.47136995e-01,\n",
       "         -5.35436392e-01, -2.30052143e-01, -9.59787518e-02,\n",
       "         -2.76451316e-02],\n",
       "        [-7.73452297e-02,  2.95994252e-01, -6.81308955e-02,\n",
       "          2.93875039e-01,  5.37178040e-01, -1.92795366e-01,\n",
       "          2.32472450e-01, -1.67698443e-01, -6.62849918e-02,\n",
       "         -5.11234701e-01],\n",
       "        [-1.82408899e-01, -2.57771373e-01,  4.88024298e-03,\n",
       "          2.81294137e-01, -8.96833718e-01,  5.56568205e-01,\n",
       "         -3.97005945e-01, -2.12322965e-01, -5.87493896e-01,\n",
       "          3.34247977e-01],\n",
       "        [ 2.01295078e-01, -1.63994834e-01,  1.00818664e-01,\n",
       "         -6.36195600e-01,  4.16760296e-01, -5.60265422e-01,\n",
       "         -9.92019027e-02,  4.11868364e-01, -2.85270572e-01,\n",
       "         -1.39800265e-01],\n",
       "        [-2.33098567e-01,  1.53782442e-02,  4.59273197e-02,\n",
       "         -3.92251760e-01, -4.66643095e-01,  1.84355870e-01,\n",
       "         -5.02246141e-01,  3.47576916e-01, -3.36070448e-01,\n",
       "          3.00186187e-01],\n",
       "        [ 1.82417616e-01, -1.37184829e-01,  3.76200616e-01,\n",
       "         -3.56442064e-01,  3.07767093e-01,  1.90553799e-01,\n",
       "          1.09363973e-01, -3.36449519e-02,  2.31930465e-01,\n",
       "         -4.02977914e-01],\n",
       "        [ 2.19825491e-01,  1.82426021e-01,  2.46786043e-01,\n",
       "          1.82002097e-01,  3.67048346e-02, -2.56406903e-01,\n",
       "          1.66992769e-01, -1.50758475e-01, -7.83632755e-01,\n",
       "          2.27686405e-01],\n",
       "        [ 2.51212239e-01,  1.08017683e-01, -9.72931162e-02,\n",
       "          2.00664312e-01, -6.99581563e-01,  6.63691759e-02,\n",
       "          3.72256637e-01,  9.02304426e-02, -2.47659147e-01,\n",
       "         -1.09921293e-02],\n",
       "        [ 2.92156339e-01, -2.80284613e-01,  3.79449487e-01,\n",
       "          2.11484715e-01, -1.19463161e-01, -4.46555942e-01,\n",
       "         -2.01829016e-01, -1.14219122e-01,  2.05927387e-01,\n",
       "          3.73378992e-01],\n",
       "        [ 3.30705196e-01, -4.21681106e-01,  2.63138652e-01,\n",
       "          5.53553440e-02, -5.82784772e-01,  9.80437025e-02,\n",
       "          9.90657955e-02, -1.12557620e-01,  7.26496354e-02,\n",
       "         -1.30216017e-01],\n",
       "        [ 2.71666166e-03, -3.56158853e-01, -9.68214720e-02,\n",
       "          4.22012776e-01, -4.70163934e-02,  2.84706861e-01,\n",
       "         -4.35353696e-01,  1.65556278e-02, -4.32810783e-01,\n",
       "          7.14918822e-02],\n",
       "        [ 3.28303337e-01, -6.97047077e-03,  2.27840051e-01,\n",
       "          1.00806616e-01, -7.95338869e-01,  2.14393422e-01,\n",
       "         -1.55125007e-01, -3.57252032e-01, -3.24219912e-01,\n",
       "         -6.59956187e-02],\n",
       "        [ 1.85354561e-01,  3.50808143e-03, -1.62088852e-02,\n",
       "         -6.02927199e-03, -1.26316711e-01,  7.21822828e-02,\n",
       "         -1.28488287e-01, -2.75205374e-01,  2.31350750e-01,\n",
       "         -9.08391848e-02],\n",
       "        [-9.86006558e-02,  1.57327354e-01,  1.96654335e-01,\n",
       "         -2.54692324e-03, -1.07529610e-01, -1.90892965e-01,\n",
       "         -2.54587889e-01, -2.12174684e-01, -6.91088988e-03,\n",
       "          2.71069050e-01],\n",
       "        [-1.81809127e-01,  9.53364596e-02,  2.42379397e-01,\n",
       "         -4.71656471e-01,  1.65178686e-01, -2.02080305e-03,\n",
       "          4.99614924e-01,  1.84119463e-01,  2.28938341e-01,\n",
       "         -2.94601083e-01],\n",
       "        [-1.49142325e-01, -9.11503211e-02,  4.58520837e-02,\n",
       "          4.17657010e-02,  8.85659531e-02, -1.72568202e-01,\n",
       "         -1.48291931e-01, -1.01457879e-01, -1.59730896e-01,\n",
       "          1.52336672e-01],\n",
       "        [-1.22003354e-01,  1.41260833e-01,  1.45684153e-01,\n",
       "         -1.45224512e-01, -5.38018763e-01, -4.18143086e-02,\n",
       "          2.65240986e-02, -2.16517434e-01,  2.14511484e-01,\n",
       "         -6.20484054e-01],\n",
       "        [ 2.63394326e-01,  4.59702134e-01, -3.43244046e-01,\n",
       "         -5.05007386e-01, -4.20176610e-03,  1.32544309e-01,\n",
       "         -6.80708289e-02,  2.58432119e-03, -5.00251114e-01,\n",
       "          1.62377521e-01],\n",
       "        [ 7.99234658e-02, -3.34152520e-01, -3.72395903e-01,\n",
       "         -6.01051927e-01,  4.23777968e-01,  4.11517322e-01,\n",
       "          2.44864434e-01, -2.42623970e-01,  8.81018490e-02,\n",
       "         -2.96393096e-01],\n",
       "        [ 1.89990386e-01, -1.52704611e-01,  6.21932559e-02,\n",
       "         -4.62171942e-01, -2.12626517e-01, -2.43457347e-01,\n",
       "          1.24114007e-01, -2.62903005e-01,  3.72467637e-01,\n",
       "         -6.01354063e-01],\n",
       "        [ 2.12597281e-01, -2.67280251e-01, -4.96089041e-01,\n",
       "          2.91196376e-01, -5.34648955e-01, -7.32204765e-02,\n",
       "         -8.46469402e-02,  6.96858615e-02, -6.44356236e-02,\n",
       "         -2.48746544e-01],\n",
       "        [-2.74356222e-04, -2.94723183e-01, -7.50171781e-01,\n",
       "         -3.35174352e-01,  2.61926562e-01,  4.96812910e-03,\n",
       "          9.47336778e-02,  3.00858945e-01, -3.02950352e-01,\n",
       "         -1.84374109e-01],\n",
       "        [ 3.41634043e-02,  3.39850605e-01, -3.74136716e-01,\n",
       "         -1.12812109e-01,  3.93392503e-01, -5.96156061e-01,\n",
       "         -1.73110247e-01,  2.18010083e-01, -5.44557869e-01,\n",
       "         -1.02637134e-01],\n",
       "        [-3.15766782e-01,  1.84465460e-02,  4.39236611e-01,\n",
       "          3.76218498e-01, -3.93538773e-01, -1.33591369e-01,\n",
       "         -6.95171177e-01,  2.79989392e-01, -3.55339676e-01,\n",
       "          3.32130515e-03],\n",
       "        [-5.52176595e-01, -2.34064296e-01, -2.41500750e-01,\n",
       "         -4.70606297e-01,  3.56233008e-02,  2.61153013e-01,\n",
       "          2.80361533e-01, -3.55984300e-01,  4.50802930e-02,\n",
       "          1.26185894e-01],\n",
       "        [-4.21964005e-02,  2.72837371e-01,  2.06522346e-01,\n",
       "          3.72769460e-02,  4.95192073e-02, -2.17511375e-02,\n",
       "          3.20566654e-01, -2.93248862e-01, -4.30610627e-01,\n",
       "          2.38604903e-01],\n",
       "        [-3.22182894e-01,  9.96909291e-02,  2.18237797e-03,\n",
       "          2.52510663e-02, -6.65010884e-02, -8.95108134e-02,\n",
       "         -8.68908584e-01,  2.91531503e-01, -2.54140973e-01,\n",
       "          2.19443247e-01],\n",
       "        [-7.39094794e-01, -4.47984576e-01,  1.26185194e-01,\n",
       "          4.28586930e-01,  1.39842227e-01,  3.55770111e-01,\n",
       "         -5.00710011e-02, -5.61964631e-01, -3.09592247e-01,\n",
       "          2.95593202e-01],\n",
       "        [-2.36500651e-01,  1.31830007e-01,  2.10749269e-01,\n",
       "          5.54795153e-02,  1.72302172e-01,  7.02011809e-02,\n",
       "         -3.98944765e-01,  1.29871234e-01,  2.51704633e-01,\n",
       "         -2.91922063e-01],\n",
       "        [-2.26619780e-01,  8.03070515e-02, -1.43646926e-01,\n",
       "          2.13478077e-02,  1.13594741e-01,  1.28948599e-01,\n",
       "          2.47622222e-01, -2.88439065e-01,  1.45938709e-01,\n",
       "         -1.29316092e-01],\n",
       "        [-2.86403298e-01, -2.48894826e-01, -4.24280554e-01,\n",
       "         -1.17072752e-02, -3.38504434e-01,  1.26787916e-01,\n",
       "         -4.06829864e-02,  1.81361139e-01, -4.78875749e-02,\n",
       "         -1.44052744e-01],\n",
       "        [-4.49964851e-01,  2.99108982e-01,  1.15580618e-01,\n",
       "          2.05398098e-01,  3.63700777e-01,  2.52123922e-01,\n",
       "         -6.63326442e-01,  3.00802916e-01, -2.34351531e-01,\n",
       "         -4.18193370e-01],\n",
       "        [-4.00413424e-02, -2.84111649e-01, -1.26315346e-02,\n",
       "          1.92887709e-02,  8.62592831e-02, -1.70199126e-01,\n",
       "          4.77525517e-02, -1.67800933e-02,  4.88269180e-02,\n",
       "          4.64594886e-02],\n",
       "        [ 9.27196443e-02, -2.86702156e-01,  2.49153748e-01,\n",
       "          9.78070721e-02, -7.46452570e-01,  1.55511454e-01,\n",
       "          1.94594860e-01,  7.20414817e-02,  1.87573969e-01,\n",
       "          8.97173882e-02]], dtype=float32),\n",
       " array([-0.09699164, -0.03391341, -0.02297057, -0.12412243,  0.03540708,\n",
       "         0.07344341,  0.01535287, -0.02481993,  0.1389321 , -0.01648486],\n",
       "       dtype=float32)]"
      ]
     },
     "execution_count": 21,
     "metadata": {},
     "output_type": "execute_result"
    }
   ],
   "source": [
    "model.get_weights()"
   ]
  }
 ],
 "metadata": {
  "kernelspec": {
   "display_name": "Python 3 (ipykernel)",
   "language": "python",
   "name": "python3"
  },
  "language_info": {
   "codemirror_mode": {
    "name": "ipython",
    "version": 3
   },
   "file_extension": ".py",
   "mimetype": "text/x-python",
   "name": "python",
   "nbconvert_exporter": "python",
   "pygments_lexer": "ipython3",
   "version": "3.10.8"
  }
 },
 "nbformat": 4,
 "nbformat_minor": 4
}
